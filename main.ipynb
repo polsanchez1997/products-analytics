{
 "cells": [
  {
   "cell_type": "code",
   "execution_count": 99,
   "id": "d589310a",
   "metadata": {},
   "outputs": [],
   "source": [
    "import pandas as pd\n",
    "import seaborn as sns\n",
    "import matplotlib.pyplot as plt"
   ]
  },
  {
   "cell_type": "markdown",
   "id": "34453e30",
   "metadata": {},
   "source": [
    "# Products Analysis"
   ]
  },
  {
   "cell_type": "markdown",
   "id": "5bdefebc",
   "metadata": {},
   "source": [
    "## EDA Process"
   ]
  },
  {
   "cell_type": "markdown",
   "id": "3176b3d5",
   "metadata": {},
   "source": [
    "We have received the \"orders\" .csv. In order to answer the questions accurately, we need to clean the data first. We have developed the following function:"
   ]
  },
  {
   "cell_type": "code",
   "execution_count": 100,
   "id": "92def77e",
   "metadata": {
    "scrolled": true
   },
   "outputs": [
    {
     "data": {
      "text/html": [
       "<div>\n",
       "<style scoped>\n",
       "    .dataframe tbody tr th:only-of-type {\n",
       "        vertical-align: middle;\n",
       "    }\n",
       "\n",
       "    .dataframe tbody tr th {\n",
       "        vertical-align: top;\n",
       "    }\n",
       "\n",
       "    .dataframe thead th {\n",
       "        text-align: right;\n",
       "    }\n",
       "</style>\n",
       "<table border=\"1\" class=\"dataframe\">\n",
       "  <thead>\n",
       "    <tr style=\"text-align: right;\">\n",
       "      <th></th>\n",
       "      <th>order_id</th>\n",
       "      <th>activation_time_local</th>\n",
       "      <th>country_code</th>\n",
       "      <th>store_address</th>\n",
       "      <th>final_status</th>\n",
       "      <th>payment_status</th>\n",
       "      <th>products</th>\n",
       "      <th>products_total</th>\n",
       "      <th>purchase_total_price</th>\n",
       "    </tr>\n",
       "  </thead>\n",
       "  <tbody>\n",
       "    <tr>\n",
       "      <th>0</th>\n",
       "      <td>33512615</td>\n",
       "      <td>2019-03-10 23:58:32.000000</td>\n",
       "      <td>TR</td>\n",
       "      <td>28725</td>\n",
       "      <td>DeliveredStatus</td>\n",
       "      <td>PAID</td>\n",
       "      <td>1</td>\n",
       "      <td>3.76</td>\n",
       "      <td>3.76</td>\n",
       "    </tr>\n",
       "    <tr>\n",
       "      <th>1</th>\n",
       "      <td>33512451</td>\n",
       "      <td>2019-03-10 23:57:56.000000</td>\n",
       "      <td>TR</td>\n",
       "      <td>28725</td>\n",
       "      <td>DeliveredStatus</td>\n",
       "      <td>PAID</td>\n",
       "      <td>1</td>\n",
       "      <td>2.86</td>\n",
       "      <td>2.86</td>\n",
       "    </tr>\n",
       "    <tr>\n",
       "      <th>2</th>\n",
       "      <td>33530892</td>\n",
       "      <td>2019-03-10 23:57:33.000000</td>\n",
       "      <td>ES</td>\n",
       "      <td>19777</td>\n",
       "      <td>CanceledStatus</td>\n",
       "      <td>PAID</td>\n",
       "      <td>1</td>\n",
       "      <td>12.95</td>\n",
       "      <td>0.00</td>\n",
       "    </tr>\n",
       "    <tr>\n",
       "      <th>3</th>\n",
       "      <td>33557765</td>\n",
       "      <td>2019-03-10 23:57:21.000000</td>\n",
       "      <td>AR</td>\n",
       "      <td>34565</td>\n",
       "      <td>DeliveredStatus</td>\n",
       "      <td>PAID</td>\n",
       "      <td>2</td>\n",
       "      <td>2.86</td>\n",
       "      <td>6.48</td>\n",
       "    </tr>\n",
       "    <tr>\n",
       "      <th>4</th>\n",
       "      <td>33512273</td>\n",
       "      <td>2019-03-10 23:57:13.000000</td>\n",
       "      <td>TR</td>\n",
       "      <td>63536</td>\n",
       "      <td>DeliveredStatus</td>\n",
       "      <td>PAID</td>\n",
       "      <td>4</td>\n",
       "      <td>1.88</td>\n",
       "      <td>1.96</td>\n",
       "    </tr>\n",
       "    <tr>\n",
       "      <th>...</th>\n",
       "      <td>...</td>\n",
       "      <td>...</td>\n",
       "      <td>...</td>\n",
       "      <td>...</td>\n",
       "      <td>...</td>\n",
       "      <td>...</td>\n",
       "      <td>...</td>\n",
       "      <td>...</td>\n",
       "      <td>...</td>\n",
       "    </tr>\n",
       "    <tr>\n",
       "      <th>60394</th>\n",
       "      <td>31960607</td>\n",
       "      <td>2019-03-01 00:04:31.000000</td>\n",
       "      <td>TR</td>\n",
       "      <td>68820</td>\n",
       "      <td>DeliveredStatus</td>\n",
       "      <td>PAID</td>\n",
       "      <td>2</td>\n",
       "      <td>10.17</td>\n",
       "      <td>10.33</td>\n",
       "    </tr>\n",
       "    <tr>\n",
       "      <th>60395</th>\n",
       "      <td>32002079</td>\n",
       "      <td>2019-03-01 00:03:53.000000</td>\n",
       "      <td>AR</td>\n",
       "      <td>50175</td>\n",
       "      <td>CanceledStatus</td>\n",
       "      <td>PAID</td>\n",
       "      <td>1</td>\n",
       "      <td>3.80</td>\n",
       "      <td>0.00</td>\n",
       "    </tr>\n",
       "    <tr>\n",
       "      <th>60396</th>\n",
       "      <td>32002046</td>\n",
       "      <td>2019-03-01 00:03:06.000000</td>\n",
       "      <td>AR</td>\n",
       "      <td>55159</td>\n",
       "      <td>DeliveredStatus</td>\n",
       "      <td>PAID</td>\n",
       "      <td>1</td>\n",
       "      <td>4.24</td>\n",
       "      <td>4.91</td>\n",
       "    </tr>\n",
       "    <tr>\n",
       "      <th>60397</th>\n",
       "      <td>32001950</td>\n",
       "      <td>2019-03-01 00:01:01.000000</td>\n",
       "      <td>AR</td>\n",
       "      <td>62504</td>\n",
       "      <td>CanceledStatus</td>\n",
       "      <td>PAID</td>\n",
       "      <td>1</td>\n",
       "      <td>4.91</td>\n",
       "      <td>0.00</td>\n",
       "    </tr>\n",
       "    <tr>\n",
       "      <th>60398</th>\n",
       "      <td>32001318</td>\n",
       "      <td>2019-03-01 00:01:00.000000</td>\n",
       "      <td>AR</td>\n",
       "      <td>55159</td>\n",
       "      <td>DeliveredStatus</td>\n",
       "      <td>NOT_PAID</td>\n",
       "      <td>2</td>\n",
       "      <td>5.14</td>\n",
       "      <td>5.58</td>\n",
       "    </tr>\n",
       "  </tbody>\n",
       "</table>\n",
       "<p>60399 rows × 9 columns</p>\n",
       "</div>"
      ],
      "text/plain": [
       "       order_id       activation_time_local country_code  store_address  \\\n",
       "0      33512615  2019-03-10 23:58:32.000000           TR          28725   \n",
       "1      33512451  2019-03-10 23:57:56.000000           TR          28725   \n",
       "2      33530892  2019-03-10 23:57:33.000000           ES          19777   \n",
       "3      33557765  2019-03-10 23:57:21.000000           AR          34565   \n",
       "4      33512273  2019-03-10 23:57:13.000000           TR          63536   \n",
       "...         ...                         ...          ...            ...   \n",
       "60394  31960607  2019-03-01 00:04:31.000000           TR          68820   \n",
       "60395  32002079  2019-03-01 00:03:53.000000           AR          50175   \n",
       "60396  32002046  2019-03-01 00:03:06.000000           AR          55159   \n",
       "60397  32001950  2019-03-01 00:01:01.000000           AR          62504   \n",
       "60398  32001318  2019-03-01 00:01:00.000000           AR          55159   \n",
       "\n",
       "          final_status payment_status  products  products_total  \\\n",
       "0      DeliveredStatus           PAID         1            3.76   \n",
       "1      DeliveredStatus           PAID         1            2.86   \n",
       "2       CanceledStatus           PAID         1           12.95   \n",
       "3      DeliveredStatus           PAID         2            2.86   \n",
       "4      DeliveredStatus           PAID         4            1.88   \n",
       "...                ...            ...       ...             ...   \n",
       "60394  DeliveredStatus           PAID         2           10.17   \n",
       "60395   CanceledStatus           PAID         1            3.80   \n",
       "60396  DeliveredStatus           PAID         1            4.24   \n",
       "60397   CanceledStatus           PAID         1            4.91   \n",
       "60398  DeliveredStatus       NOT_PAID         2            5.14   \n",
       "\n",
       "       purchase_total_price  \n",
       "0                      3.76  \n",
       "1                      2.86  \n",
       "2                      0.00  \n",
       "3                      6.48  \n",
       "4                      1.96  \n",
       "...                     ...  \n",
       "60394                 10.33  \n",
       "60395                  0.00  \n",
       "60396                  4.91  \n",
       "60397                  0.00  \n",
       "60398                  5.58  \n",
       "\n",
       "[60399 rows x 9 columns]"
      ]
     },
     "execution_count": 100,
     "metadata": {},
     "output_type": "execute_result"
    }
   ],
   "source": [
    "import pandas as pd\n",
    "\n",
    "def load_and_clean_data(file_path):\n",
    "    df = pd.read_csv(file_path)\n",
    "\n",
    "    column_mapping = {\n",
    "        \"33557880\": \"order_id\",\n",
    "        \"2019-03-10 23:59:59.000000\": \"activation_time_local\",\n",
    "        \"AR\": \"country_code\",\n",
    "        \"14200\": \"store_address\",\n",
    "        \"DeliveredStatus\": \"final_status\",\n",
    "        \"PAID\": \"payment_status\",\n",
    "        \"1\": \"products\",\n",
    "        \"4.54\": \"products_total\",\n",
    "        \"8.64\": \"purchase_total_price\"\n",
    "    }\n",
    "    df.rename(columns=column_mapping, inplace=True)\n",
    "\n",
    "    df = df.drop_duplicates()\n",
    "\n",
    "    return df\n",
    "\n",
    "file_path = \"data/orders.csv\"\n",
    "df = load_and_clean_data(file_path)\n",
    "\n",
    "df\n"
   ]
  },
  {
   "cell_type": "markdown",
   "id": "0794cb9d",
   "metadata": {},
   "source": [
    "## 1. What percent of orders are under-authorized? "
   ]
  },
  {
   "cell_type": "markdown",
   "id": "4c2bee11",
   "metadata": {},
   "source": [
    "When the products_total is lower than purchase_total_price we call them under-authorized orders, otherwise is a\n",
    "correctly authorized order. We iterate each row so we can know which ones are under-authorized:"
   ]
  },
  {
   "cell_type": "code",
   "execution_count": 101,
   "id": "ca077976",
   "metadata": {
    "scrolled": true
   },
   "outputs": [
    {
     "data": {
      "text/html": [
       "<div>\n",
       "<style scoped>\n",
       "    .dataframe tbody tr th:only-of-type {\n",
       "        vertical-align: middle;\n",
       "    }\n",
       "\n",
       "    .dataframe tbody tr th {\n",
       "        vertical-align: top;\n",
       "    }\n",
       "\n",
       "    .dataframe thead th {\n",
       "        text-align: right;\n",
       "    }\n",
       "</style>\n",
       "<table border=\"1\" class=\"dataframe\">\n",
       "  <thead>\n",
       "    <tr style=\"text-align: right;\">\n",
       "      <th></th>\n",
       "      <th>order_id</th>\n",
       "      <th>activation_time_local</th>\n",
       "      <th>country_code</th>\n",
       "      <th>store_address</th>\n",
       "      <th>final_status</th>\n",
       "      <th>payment_status</th>\n",
       "      <th>products</th>\n",
       "      <th>products_total</th>\n",
       "      <th>purchase_total_price</th>\n",
       "    </tr>\n",
       "  </thead>\n",
       "  <tbody>\n",
       "    <tr>\n",
       "      <th>3</th>\n",
       "      <td>33557765</td>\n",
       "      <td>2019-03-10 23:57:21.000000</td>\n",
       "      <td>AR</td>\n",
       "      <td>34565</td>\n",
       "      <td>DeliveredStatus</td>\n",
       "      <td>PAID</td>\n",
       "      <td>2</td>\n",
       "      <td>2.86</td>\n",
       "      <td>6.48</td>\n",
       "    </tr>\n",
       "    <tr>\n",
       "      <th>4</th>\n",
       "      <td>33512273</td>\n",
       "      <td>2019-03-10 23:57:13.000000</td>\n",
       "      <td>TR</td>\n",
       "      <td>63536</td>\n",
       "      <td>DeliveredStatus</td>\n",
       "      <td>PAID</td>\n",
       "      <td>4</td>\n",
       "      <td>1.88</td>\n",
       "      <td>1.96</td>\n",
       "    </tr>\n",
       "    <tr>\n",
       "      <th>6</th>\n",
       "      <td>33511759</td>\n",
       "      <td>2019-03-10 23:55:21.000000</td>\n",
       "      <td>TR</td>\n",
       "      <td>47493</td>\n",
       "      <td>DeliveredStatus</td>\n",
       "      <td>PAID</td>\n",
       "      <td>2</td>\n",
       "      <td>2.37</td>\n",
       "      <td>2.45</td>\n",
       "    </tr>\n",
       "    <tr>\n",
       "      <th>9</th>\n",
       "      <td>33523444</td>\n",
       "      <td>2019-03-10 23:53:38.000000</td>\n",
       "      <td>RO</td>\n",
       "      <td>72549</td>\n",
       "      <td>DeliveredStatus</td>\n",
       "      <td>PAID</td>\n",
       "      <td>2</td>\n",
       "      <td>2.05</td>\n",
       "      <td>10.17</td>\n",
       "    </tr>\n",
       "    <tr>\n",
       "      <th>11</th>\n",
       "      <td>33530379</td>\n",
       "      <td>2019-03-10 23:52:20.000000</td>\n",
       "      <td>FR</td>\n",
       "      <td>4444</td>\n",
       "      <td>DeliveredStatus</td>\n",
       "      <td>PAID</td>\n",
       "      <td>1</td>\n",
       "      <td>8.10</td>\n",
       "      <td>10.20</td>\n",
       "    </tr>\n",
       "    <tr>\n",
       "      <th>...</th>\n",
       "      <td>...</td>\n",
       "      <td>...</td>\n",
       "      <td>...</td>\n",
       "      <td>...</td>\n",
       "      <td>...</td>\n",
       "      <td>...</td>\n",
       "      <td>...</td>\n",
       "      <td>...</td>\n",
       "      <td>...</td>\n",
       "    </tr>\n",
       "    <tr>\n",
       "      <th>60379</th>\n",
       "      <td>31965637</td>\n",
       "      <td>2019-03-01 00:30:50.000000</td>\n",
       "      <td>TR</td>\n",
       "      <td>44528</td>\n",
       "      <td>DeliveredStatus</td>\n",
       "      <td>PAID</td>\n",
       "      <td>1</td>\n",
       "      <td>3.44</td>\n",
       "      <td>6.89</td>\n",
       "    </tr>\n",
       "    <tr>\n",
       "      <th>60388</th>\n",
       "      <td>32002620</td>\n",
       "      <td>2019-03-01 00:14:57.000000</td>\n",
       "      <td>AR</td>\n",
       "      <td>62623</td>\n",
       "      <td>DeliveredStatus</td>\n",
       "      <td>PAID</td>\n",
       "      <td>2</td>\n",
       "      <td>1.79</td>\n",
       "      <td>5.36</td>\n",
       "    </tr>\n",
       "    <tr>\n",
       "      <th>60394</th>\n",
       "      <td>31960607</td>\n",
       "      <td>2019-03-01 00:04:31.000000</td>\n",
       "      <td>TR</td>\n",
       "      <td>68820</td>\n",
       "      <td>DeliveredStatus</td>\n",
       "      <td>PAID</td>\n",
       "      <td>2</td>\n",
       "      <td>10.17</td>\n",
       "      <td>10.33</td>\n",
       "    </tr>\n",
       "    <tr>\n",
       "      <th>60396</th>\n",
       "      <td>32002046</td>\n",
       "      <td>2019-03-01 00:03:06.000000</td>\n",
       "      <td>AR</td>\n",
       "      <td>55159</td>\n",
       "      <td>DeliveredStatus</td>\n",
       "      <td>PAID</td>\n",
       "      <td>1</td>\n",
       "      <td>4.24</td>\n",
       "      <td>4.91</td>\n",
       "    </tr>\n",
       "    <tr>\n",
       "      <th>60398</th>\n",
       "      <td>32001318</td>\n",
       "      <td>2019-03-01 00:01:00.000000</td>\n",
       "      <td>AR</td>\n",
       "      <td>55159</td>\n",
       "      <td>DeliveredStatus</td>\n",
       "      <td>NOT_PAID</td>\n",
       "      <td>2</td>\n",
       "      <td>5.14</td>\n",
       "      <td>5.58</td>\n",
       "    </tr>\n",
       "  </tbody>\n",
       "</table>\n",
       "<p>34780 rows × 9 columns</p>\n",
       "</div>"
      ],
      "text/plain": [
       "       order_id       activation_time_local country_code  store_address  \\\n",
       "3      33557765  2019-03-10 23:57:21.000000           AR          34565   \n",
       "4      33512273  2019-03-10 23:57:13.000000           TR          63536   \n",
       "6      33511759  2019-03-10 23:55:21.000000           TR          47493   \n",
       "9      33523444  2019-03-10 23:53:38.000000           RO          72549   \n",
       "11     33530379  2019-03-10 23:52:20.000000           FR           4444   \n",
       "...         ...                         ...          ...            ...   \n",
       "60379  31965637  2019-03-01 00:30:50.000000           TR          44528   \n",
       "60388  32002620  2019-03-01 00:14:57.000000           AR          62623   \n",
       "60394  31960607  2019-03-01 00:04:31.000000           TR          68820   \n",
       "60396  32002046  2019-03-01 00:03:06.000000           AR          55159   \n",
       "60398  32001318  2019-03-01 00:01:00.000000           AR          55159   \n",
       "\n",
       "          final_status payment_status  products  products_total  \\\n",
       "3      DeliveredStatus           PAID         2            2.86   \n",
       "4      DeliveredStatus           PAID         4            1.88   \n",
       "6      DeliveredStatus           PAID         2            2.37   \n",
       "9      DeliveredStatus           PAID         2            2.05   \n",
       "11     DeliveredStatus           PAID         1            8.10   \n",
       "...                ...            ...       ...             ...   \n",
       "60379  DeliveredStatus           PAID         1            3.44   \n",
       "60388  DeliveredStatus           PAID         2            1.79   \n",
       "60394  DeliveredStatus           PAID         2           10.17   \n",
       "60396  DeliveredStatus           PAID         1            4.24   \n",
       "60398  DeliveredStatus       NOT_PAID         2            5.14   \n",
       "\n",
       "       purchase_total_price  \n",
       "3                      6.48  \n",
       "4                      1.96  \n",
       "6                      2.45  \n",
       "9                     10.17  \n",
       "11                    10.20  \n",
       "...                     ...  \n",
       "60379                  6.89  \n",
       "60388                  5.36  \n",
       "60394                 10.33  \n",
       "60396                  4.91  \n",
       "60398                  5.58  \n",
       "\n",
       "[34780 rows x 9 columns]"
      ]
     },
     "execution_count": 101,
     "metadata": {},
     "output_type": "execute_result"
    }
   ],
   "source": [
    "df_under_authorized = []\n",
    "\n",
    "for index, row in df.iterrows():\n",
    "    if row['products_total'] < row['purchase_total_price']:\n",
    "        df_under_authorized.append(row)\n",
    "        \n",
    "df_under_authorized = pd.DataFrame(df_under_authorized)\n",
    "df_under_authorized"
   ]
  },
  {
   "cell_type": "markdown",
   "id": "66cdc3b9",
   "metadata": {},
   "source": [
    "Now, we calculate the percentage:"
   ]
  },
  {
   "cell_type": "code",
   "execution_count": 120,
   "id": "0603b368",
   "metadata": {},
   "outputs": [
    {
     "data": {
      "text/plain": [
       "0.5758373483004685"
      ]
     },
     "execution_count": 120,
     "metadata": {},
     "output_type": "execute_result"
    }
   ],
   "source": [
    "percentage = df_under_authorized.shape[0] / df.shape[0]\n",
    "percentage"
   ]
  },
  {
   "cell_type": "markdown",
   "id": "73e5ec52",
   "metadata": {},
   "source": [
    "#### Graphic representation"
   ]
  },
  {
   "cell_type": "code",
   "execution_count": 123,
   "id": "6e18d53d",
   "metadata": {},
   "outputs": [
    {
     "data": {
      "image/png": "[encoded data removed]",
      "text/plain": [
       "<Figure size 640x480 with 1 Axes>"
      ]
     },
     "metadata": {},
     "output_type": "display_data"
    }
   ],
   "source": [
    "df_under_authorized = df[df['products_total'] < df['purchase_total_price']]\n",
    "\n",
    "percentage = df_under_authorized.shape[0] / df.shape[0]\n",
    "\n",
    "labels = ['Under-Authorized', 'Authorized']\n",
    "sizes = [percentage, 1 - percentage]\n",
    "\n",
    "fig, ax = plt.subplots()\n",
    "ax.pie(sizes, labels=labels, autopct='%1.1f%%', startangle=90, colors=['red', 'grey'])\n",
    "ax.axis('equal') \n",
    "\n",
    "plt.title('Percentage of Under-Authorized Orders')\n",
    "plt.show()\n"
   ]
  },
  {
   "cell_type": "markdown",
   "id": "8b37bf86",
   "metadata": {},
   "source": [
    "## 2. What percent of orders would be correctly authorized w/ incremental authorisation (+20%) on the amount at checkout? "
   ]
  },
  {
   "cell_type": "markdown",
   "id": "57949589",
   "metadata": {},
   "source": [
    "To do so, we have created a new column where the new price is multiplied by 1.2 and then we have analyzed the new percentage."
   ]
  },
  {
   "cell_type": "code",
   "execution_count": 104,
   "id": "c8ab3ac9",
   "metadata": {},
   "outputs": [],
   "source": [
    "df[\"products_total_checkout\"] = df[\"products_total\"]*1.2\n",
    "df_under_authorized_checkout = []\n",
    "\n",
    "for index, row in df.iterrows():\n",
    "    if row['products_total_checkout'] < row['purchase_total_price']:\n",
    "        df_under_authorized_checkout.append(row)\n",
    "        \n",
    "df_under_authorized_checkout = pd.DataFrame(df_under_authorized_checkout)"
   ]
  },
  {
   "cell_type": "code",
   "execution_count": 105,
   "id": "e45af91e",
   "metadata": {},
   "outputs": [
    {
     "data": {
      "text/plain": [
       "0.3096408880941737"
      ]
     },
     "execution_count": 105,
     "metadata": {},
     "output_type": "execute_result"
    }
   ],
   "source": [
    "percentage_good_with_checkout = df_under_authorized_checkout.shape[0] / df.shape[0]\n",
    "percentage_good_with_checkout"
   ]
  },
  {
   "cell_type": "markdown",
   "id": "f046df3a",
   "metadata": {},
   "source": [
    "#### Graphic representation"
   ]
  },
  {
   "cell_type": "code",
   "execution_count": 124,
   "id": "a84dc275",
   "metadata": {},
   "outputs": [
    {
     "data": {
      "image/png": "[encoded data removed]",
      "text/plain": [
       "<Figure size 640x480 with 1 Axes>"
      ]
     },
     "metadata": {},
     "output_type": "display_data"
    }
   ],
   "source": [
    "df_correctly_authorized_checkout = df[df['products_total_checkout'] >= df['purchase_total_price']]\n",
    "\n",
    "percentage_good_with_checkout = df_correctly_authorized_checkout.shape[0] / df.shape[0]\n",
    "\n",
    "labels = ['Correctly Authorized with Incremental Authorization', 'Other']\n",
    "sizes = [percentage_good_with_checkout, 1 - percentage_good_with_checkout]\n",
    "\n",
    "fig, ax = plt.subplots()\n",
    "ax.pie(sizes, labels=labels, autopct='%1.1f%%', startangle=90, colors=['green', 'grey'])\n",
    "ax.axis('equal')\n",
    "\n",
    "plt.title('Percentage of Correctly Authorized Orders with Incremental Authorization')\n",
    "plt.show()\n"
   ]
  },
  {
   "cell_type": "markdown",
   "id": "0556f5fd",
   "metadata": {},
   "source": [
    "## 3. Are there differences when split by country? "
   ]
  },
  {
   "cell_type": "markdown",
   "id": "1fc08d65",
   "metadata": {},
   "source": [
    "Firstly, we will extract an authorized Dataframe. Then, we extract authorized, under-authorized and total value counts. Finally, we will do a grpah to analyze the data."
   ]
  },
  {
   "cell_type": "code",
   "execution_count": 107,
   "id": "062f3a30",
   "metadata": {},
   "outputs": [],
   "source": [
    "df_authorized = []\n",
    "\n",
    "for index, row in df.iterrows():\n",
    "    if row['products_total'] >= row['purchase_total_price']:\n",
    "        df_authorized.append(row)\n",
    "        \n",
    "df_authorized = pd.DataFrame(df_authorized)\n"
   ]
  },
  {
   "cell_type": "markdown",
   "id": "fee060fb",
   "metadata": {},
   "source": [
    "#### Total orders (Value Counts) per Country"
   ]
  },
  {
   "cell_type": "code",
   "execution_count": 108,
   "id": "4a61a9ec",
   "metadata": {},
   "outputs": [
    {
     "data": {
      "text/plain": [
       "country_code\n",
       "AR    13191\n",
       "ES    12806\n",
       "TR     6348\n",
       "PE     4785\n",
       "UA     4119\n",
       "IT     2808\n",
       "EC     2508\n",
       "RO     2167\n",
       "FR     2136\n",
       "EG     1828\n",
       "MA     1632\n",
       "CR     1107\n",
       "CL     1104\n",
       "PA     1013\n",
       "PT      909\n",
       "GT      567\n",
       "GE      546\n",
       "DO      500\n",
       "UY      190\n",
       "KE       94\n",
       "PR       33\n",
       "CI        6\n",
       "BR        2\n",
       "Name: count, dtype: int64"
      ]
     },
     "execution_count": 108,
     "metadata": {},
     "output_type": "execute_result"
    }
   ],
   "source": [
    "\n",
    "df[\"country_code\"].value_counts()"
   ]
  },
  {
   "cell_type": "markdown",
   "id": "2e23a30c",
   "metadata": {},
   "source": [
    "#### Authorized Orders (Value Counts) per Country"
   ]
  },
  {
   "cell_type": "code",
   "execution_count": 109,
   "id": "32b5a3fb",
   "metadata": {},
   "outputs": [
    {
     "data": {
      "text/plain": [
       "country_code\n",
       "AR    5198\n",
       "ES    4841\n",
       "TR    3132\n",
       "UA    2116\n",
       "PE    2110\n",
       "IT    1255\n",
       "RO    1161\n",
       "MA     968\n",
       "EC     897\n",
       "FR     734\n",
       "EG     678\n",
       "CR     610\n",
       "PA     397\n",
       "PT     381\n",
       "GT     379\n",
       "GE     263\n",
       "DO     182\n",
       "CL     143\n",
       "UY     109\n",
       "KE      41\n",
       "PR      19\n",
       "CI       4\n",
       "BR       1\n",
       "Name: count, dtype: int64"
      ]
     },
     "execution_count": 109,
     "metadata": {},
     "output_type": "execute_result"
    }
   ],
   "source": [
    "df_authorized[\"country_code\"].value_counts()"
   ]
  },
  {
   "cell_type": "markdown",
   "id": "286c4b9f",
   "metadata": {},
   "source": [
    "#### Under-authorized orders (Value Counts) per Country"
   ]
  },
  {
   "cell_type": "code",
   "execution_count": 111,
   "id": "47f7017c",
   "metadata": {
    "scrolled": true
   },
   "outputs": [
    {
     "data": {
      "text/plain": [
       "country_code\n",
       "AR    7993\n",
       "ES    7965\n",
       "TR    3216\n",
       "PE    2675\n",
       "UA    2003\n",
       "EC    1611\n",
       "IT    1553\n",
       "FR    1402\n",
       "EG    1150\n",
       "RO    1006\n",
       "CL     961\n",
       "MA     664\n",
       "PA     616\n",
       "PT     528\n",
       "CR     497\n",
       "DO     318\n",
       "GE     283\n",
       "GT     188\n",
       "UY      81\n",
       "KE      53\n",
       "PR      14\n",
       "CI       2\n",
       "BR       1\n",
       "Name: count, dtype: int64"
      ]
     },
     "execution_count": 111,
     "metadata": {},
     "output_type": "execute_result"
    }
   ],
   "source": [
    "df_under_authorized[\"country_code\"].value_counts()"
   ]
  },
  {
   "cell_type": "markdown",
   "id": "3717dff1",
   "metadata": {},
   "source": [
    "#### Graph"
   ]
  },
  {
   "cell_type": "markdown",
   "id": "7c8f3229",
   "metadata": {},
   "source": [
    "We finally decide that the best way to analyze is to graph the unauthorized orders by country:"
   ]
  },
  {
   "cell_type": "code",
   "execution_count": 112,
   "id": "452462f5",
   "metadata": {},
   "outputs": [
    {
     "data": {
      "image/png": "[encoded data removed]",
      "text/plain": [
       "<Figure size 640x480 with 1 Axes>"
      ]
     },
     "metadata": {},
     "output_type": "display_data"
    }
   ],
   "source": [
    "count = df_under_authorized[\"country_code\"].value_counts()\n",
    "count.plot(kind='bar', color='blue')  \n",
    "plt.title('Unauthorized orders by country')\n",
    "plt.xlabel('Country code')  \n",
    "plt.ylabel('Quantity of unauthorised orders')  \n",
    "plt.xticks(rotation=45)  \n",
    "plt.tight_layout()  \n",
    "plt.show() "
   ]
  },
  {
   "cell_type": "markdown",
   "id": "c6ae5715",
   "metadata": {},
   "source": [
    "## 4. For the remainder of orders that would be outside of incremental auth what values would be necessary to capture the remaining amount?"
   ]
  },
  {
   "cell_type": "markdown",
   "id": "d8a8d793",
   "metadata": {},
   "source": [
    "We create a new column so we can have this information:"
   ]
  },
  {
   "cell_type": "code",
   "execution_count": 87,
   "id": "e0257b9d",
   "metadata": {},
   "outputs": [
    {
     "data": {
      "text/html": [
       "<div>\n",
       "<style scoped>\n",
       "    .dataframe tbody tr th:only-of-type {\n",
       "        vertical-align: middle;\n",
       "    }\n",
       "\n",
       "    .dataframe tbody tr th {\n",
       "        vertical-align: top;\n",
       "    }\n",
       "\n",
       "    .dataframe thead th {\n",
       "        text-align: right;\n",
       "    }\n",
       "</style>\n",
       "<table border=\"1\" class=\"dataframe\">\n",
       "  <thead>\n",
       "    <tr style=\"text-align: right;\">\n",
       "      <th></th>\n",
       "      <th>order_id</th>\n",
       "      <th>activation_time_local</th>\n",
       "      <th>country_code</th>\n",
       "      <th>store_address</th>\n",
       "      <th>final_status</th>\n",
       "      <th>payment_status</th>\n",
       "      <th>products</th>\n",
       "      <th>products_total</th>\n",
       "      <th>purchase_total_price</th>\n",
       "      <th>remaining_amount</th>\n",
       "    </tr>\n",
       "  </thead>\n",
       "  <tbody>\n",
       "    <tr>\n",
       "      <th>3</th>\n",
       "      <td>33557765</td>\n",
       "      <td>2019-03-10 23:57:21.000000</td>\n",
       "      <td>AR</td>\n",
       "      <td>34565</td>\n",
       "      <td>DeliveredStatus</td>\n",
       "      <td>PAID</td>\n",
       "      <td>2</td>\n",
       "      <td>2.86</td>\n",
       "      <td>6.48</td>\n",
       "      <td>3.62</td>\n",
       "    </tr>\n",
       "    <tr>\n",
       "      <th>4</th>\n",
       "      <td>33512273</td>\n",
       "      <td>2019-03-10 23:57:13.000000</td>\n",
       "      <td>TR</td>\n",
       "      <td>63536</td>\n",
       "      <td>DeliveredStatus</td>\n",
       "      <td>PAID</td>\n",
       "      <td>4</td>\n",
       "      <td>1.88</td>\n",
       "      <td>1.96</td>\n",
       "      <td>0.08</td>\n",
       "    </tr>\n",
       "    <tr>\n",
       "      <th>6</th>\n",
       "      <td>33511759</td>\n",
       "      <td>2019-03-10 23:55:21.000000</td>\n",
       "      <td>TR</td>\n",
       "      <td>47493</td>\n",
       "      <td>DeliveredStatus</td>\n",
       "      <td>PAID</td>\n",
       "      <td>2</td>\n",
       "      <td>2.37</td>\n",
       "      <td>2.45</td>\n",
       "      <td>0.08</td>\n",
       "    </tr>\n",
       "    <tr>\n",
       "      <th>9</th>\n",
       "      <td>33523444</td>\n",
       "      <td>2019-03-10 23:53:38.000000</td>\n",
       "      <td>RO</td>\n",
       "      <td>72549</td>\n",
       "      <td>DeliveredStatus</td>\n",
       "      <td>PAID</td>\n",
       "      <td>2</td>\n",
       "      <td>2.05</td>\n",
       "      <td>10.17</td>\n",
       "      <td>8.12</td>\n",
       "    </tr>\n",
       "    <tr>\n",
       "      <th>11</th>\n",
       "      <td>33530379</td>\n",
       "      <td>2019-03-10 23:52:20.000000</td>\n",
       "      <td>FR</td>\n",
       "      <td>4444</td>\n",
       "      <td>DeliveredStatus</td>\n",
       "      <td>PAID</td>\n",
       "      <td>1</td>\n",
       "      <td>8.10</td>\n",
       "      <td>10.20</td>\n",
       "      <td>2.10</td>\n",
       "    </tr>\n",
       "    <tr>\n",
       "      <th>...</th>\n",
       "      <td>...</td>\n",
       "      <td>...</td>\n",
       "      <td>...</td>\n",
       "      <td>...</td>\n",
       "      <td>...</td>\n",
       "      <td>...</td>\n",
       "      <td>...</td>\n",
       "      <td>...</td>\n",
       "      <td>...</td>\n",
       "      <td>...</td>\n",
       "    </tr>\n",
       "    <tr>\n",
       "      <th>60379</th>\n",
       "      <td>31965637</td>\n",
       "      <td>2019-03-01 00:30:50.000000</td>\n",
       "      <td>TR</td>\n",
       "      <td>44528</td>\n",
       "      <td>DeliveredStatus</td>\n",
       "      <td>PAID</td>\n",
       "      <td>1</td>\n",
       "      <td>3.44</td>\n",
       "      <td>6.89</td>\n",
       "      <td>3.45</td>\n",
       "    </tr>\n",
       "    <tr>\n",
       "      <th>60388</th>\n",
       "      <td>32002620</td>\n",
       "      <td>2019-03-01 00:14:57.000000</td>\n",
       "      <td>AR</td>\n",
       "      <td>62623</td>\n",
       "      <td>DeliveredStatus</td>\n",
       "      <td>PAID</td>\n",
       "      <td>2</td>\n",
       "      <td>1.79</td>\n",
       "      <td>5.36</td>\n",
       "      <td>3.57</td>\n",
       "    </tr>\n",
       "    <tr>\n",
       "      <th>60394</th>\n",
       "      <td>31960607</td>\n",
       "      <td>2019-03-01 00:04:31.000000</td>\n",
       "      <td>TR</td>\n",
       "      <td>68820</td>\n",
       "      <td>DeliveredStatus</td>\n",
       "      <td>PAID</td>\n",
       "      <td>2</td>\n",
       "      <td>10.17</td>\n",
       "      <td>10.33</td>\n",
       "      <td>0.16</td>\n",
       "    </tr>\n",
       "    <tr>\n",
       "      <th>60396</th>\n",
       "      <td>32002046</td>\n",
       "      <td>2019-03-01 00:03:06.000000</td>\n",
       "      <td>AR</td>\n",
       "      <td>55159</td>\n",
       "      <td>DeliveredStatus</td>\n",
       "      <td>PAID</td>\n",
       "      <td>1</td>\n",
       "      <td>4.24</td>\n",
       "      <td>4.91</td>\n",
       "      <td>0.67</td>\n",
       "    </tr>\n",
       "    <tr>\n",
       "      <th>60398</th>\n",
       "      <td>32001318</td>\n",
       "      <td>2019-03-01 00:01:00.000000</td>\n",
       "      <td>AR</td>\n",
       "      <td>55159</td>\n",
       "      <td>DeliveredStatus</td>\n",
       "      <td>NOT_PAID</td>\n",
       "      <td>2</td>\n",
       "      <td>5.14</td>\n",
       "      <td>5.58</td>\n",
       "      <td>0.44</td>\n",
       "    </tr>\n",
       "  </tbody>\n",
       "</table>\n",
       "<p>34780 rows × 10 columns</p>\n",
       "</div>"
      ],
      "text/plain": [
       "       order_id       activation_time_local country_code  store_address  \\\n",
       "3      33557765  2019-03-10 23:57:21.000000           AR          34565   \n",
       "4      33512273  2019-03-10 23:57:13.000000           TR          63536   \n",
       "6      33511759  2019-03-10 23:55:21.000000           TR          47493   \n",
       "9      33523444  2019-03-10 23:53:38.000000           RO          72549   \n",
       "11     33530379  2019-03-10 23:52:20.000000           FR           4444   \n",
       "...         ...                         ...          ...            ...   \n",
       "60379  31965637  2019-03-01 00:30:50.000000           TR          44528   \n",
       "60388  32002620  2019-03-01 00:14:57.000000           AR          62623   \n",
       "60394  31960607  2019-03-01 00:04:31.000000           TR          68820   \n",
       "60396  32002046  2019-03-01 00:03:06.000000           AR          55159   \n",
       "60398  32001318  2019-03-01 00:01:00.000000           AR          55159   \n",
       "\n",
       "          final_status payment_status  products  products_total  \\\n",
       "3      DeliveredStatus           PAID         2            2.86   \n",
       "4      DeliveredStatus           PAID         4            1.88   \n",
       "6      DeliveredStatus           PAID         2            2.37   \n",
       "9      DeliveredStatus           PAID         2            2.05   \n",
       "11     DeliveredStatus           PAID         1            8.10   \n",
       "...                ...            ...       ...             ...   \n",
       "60379  DeliveredStatus           PAID         1            3.44   \n",
       "60388  DeliveredStatus           PAID         2            1.79   \n",
       "60394  DeliveredStatus           PAID         2           10.17   \n",
       "60396  DeliveredStatus           PAID         1            4.24   \n",
       "60398  DeliveredStatus       NOT_PAID         2            5.14   \n",
       "\n",
       "       purchase_total_price  remaining_amount  \n",
       "3                      6.48              3.62  \n",
       "4                      1.96              0.08  \n",
       "6                      2.45              0.08  \n",
       "9                     10.17              8.12  \n",
       "11                    10.20              2.10  \n",
       "...                     ...               ...  \n",
       "60379                  6.89              3.45  \n",
       "60388                  5.36              3.57  \n",
       "60394                 10.33              0.16  \n",
       "60396                  4.91              0.67  \n",
       "60398                  5.58              0.44  \n",
       "\n",
       "[34780 rows x 10 columns]"
      ]
     },
     "execution_count": 87,
     "metadata": {},
     "output_type": "execute_result"
    }
   ],
   "source": [
    "df_under_authorized[\"remaining_amount\"] = df_under_authorized[\"purchase_total_price\"] - df_under_authorized[\"products_total\"]\n",
    "df_under_authorized"
   ]
  },
  {
   "cell_type": "markdown",
   "id": "7babc6e4",
   "metadata": {},
   "source": [
    "## 5. Which stores are the most problematic in terms of orders and monetary value? "
   ]
  },
  {
   "cell_type": "markdown",
   "id": "757d9670",
   "metadata": {},
   "source": [
    "We think the best way to analyze this is to create a new column in the first Dataframe. This will be a Boolean that analyze wheather the order is authorized or not.\n",
    "\n",
    "Secondly, we separately analyze how problematic they are in monetary terms, as well as in orders terms."
   ]
  },
  {
   "cell_type": "code",
   "execution_count": 114,
   "id": "145e520a",
   "metadata": {},
   "outputs": [],
   "source": [
    "def under_authorized(row):\n",
    "    return True if row['products_total'] < row['purchase_total_price'] else False\n",
    "\n",
    "df['under_authorized'] = df.apply(under_authorized, axis=1)"
   ]
  },
  {
   "cell_type": "code",
   "execution_count": 115,
   "id": "8f9bba85",
   "metadata": {},
   "outputs": [
    {
     "data": {
      "text/plain": [
       "store_address\n",
       "28669    6376.07\n",
       "12513    5307.10\n",
       "28671    4714.97\n",
       "28712    3781.39\n",
       "14455    3514.33\n",
       "          ...   \n",
       "65158       0.00\n",
       "65175       0.00\n",
       "65286       0.00\n",
       "71756       0.00\n",
       "53591       0.00\n",
       "Name: purchase_total_price, Length: 5755, dtype: float64"
      ]
     },
     "execution_count": 115,
     "metadata": {},
     "output_type": "execute_result"
    }
   ],
   "source": [
    "monetary_value = df.groupby('store_address')['purchase_total_price'].sum().sort_values(ascending=False)\n",
    "monetary_value"
   ]
  },
  {
   "cell_type": "code",
   "execution_count": 116,
   "id": "2f0d68c9",
   "metadata": {},
   "outputs": [
    {
     "data": {
      "text/plain": [
       "store_address\n",
       "28671    448\n",
       "28712    217\n",
       "28286    204\n",
       "14455    179\n",
       "11694    160\n",
       "        ... \n",
       "67405      0\n",
       "67399      0\n",
       "67375      0\n",
       "67350      0\n",
       "75236      0\n",
       "Name: under_authorized, Length: 5755, dtype: int64"
      ]
     },
     "execution_count": 116,
     "metadata": {},
     "output_type": "execute_result"
    }
   ],
   "source": [
    "orders_value = df.groupby('store_address')['under_authorized'].sum().sort_values(ascending = False)\n",
    "orders_value"
   ]
  },
  {
   "cell_type": "markdown",
   "id": "e0420458",
   "metadata": {},
   "source": [
    "## 6. For under-auth orders is there a correlation between the difference in the prices and the cancellation of the order? In other words: Is an order more likely to be cancelled as the price difference increases? "
   ]
  },
  {
   "cell_type": "markdown",
   "id": "4e765ff3",
   "metadata": {},
   "source": [
    "We created a column to know the price difference and then we provide a graphic representation to understand the correlation.\n"
   ]
  },
  {
   "cell_type": "code",
   "execution_count": 117,
   "id": "23df6840",
   "metadata": {},
   "outputs": [
    {
     "data": {
      "text/html": [
       "<div>\n",
       "<style scoped>\n",
       "    .dataframe tbody tr th:only-of-type {\n",
       "        vertical-align: middle;\n",
       "    }\n",
       "\n",
       "    .dataframe tbody tr th {\n",
       "        vertical-align: top;\n",
       "    }\n",
       "\n",
       "    .dataframe thead th {\n",
       "        text-align: right;\n",
       "    }\n",
       "</style>\n",
       "<table border=\"1\" class=\"dataframe\">\n",
       "  <thead>\n",
       "    <tr style=\"text-align: right;\">\n",
       "      <th></th>\n",
       "      <th>order_id</th>\n",
       "      <th>activation_time_local</th>\n",
       "      <th>country_code</th>\n",
       "      <th>store_address</th>\n",
       "      <th>final_status</th>\n",
       "      <th>payment_status</th>\n",
       "      <th>products</th>\n",
       "      <th>products_total</th>\n",
       "      <th>purchase_total_price</th>\n",
       "      <th>products_total_checkout</th>\n",
       "      <th>under_authorized</th>\n",
       "      <th>remaining_amount</th>\n",
       "    </tr>\n",
       "  </thead>\n",
       "  <tbody>\n",
       "    <tr>\n",
       "      <th>0</th>\n",
       "      <td>33512615</td>\n",
       "      <td>2019-03-10 23:58:32.000000</td>\n",
       "      <td>TR</td>\n",
       "      <td>28725</td>\n",
       "      <td>DeliveredStatus</td>\n",
       "      <td>PAID</td>\n",
       "      <td>1</td>\n",
       "      <td>3.76</td>\n",
       "      <td>3.76</td>\n",
       "      <td>4.512</td>\n",
       "      <td>False</td>\n",
       "      <td>0.00</td>\n",
       "    </tr>\n",
       "    <tr>\n",
       "      <th>1</th>\n",
       "      <td>33512451</td>\n",
       "      <td>2019-03-10 23:57:56.000000</td>\n",
       "      <td>TR</td>\n",
       "      <td>28725</td>\n",
       "      <td>DeliveredStatus</td>\n",
       "      <td>PAID</td>\n",
       "      <td>1</td>\n",
       "      <td>2.86</td>\n",
       "      <td>2.86</td>\n",
       "      <td>3.432</td>\n",
       "      <td>False</td>\n",
       "      <td>0.00</td>\n",
       "    </tr>\n",
       "    <tr>\n",
       "      <th>2</th>\n",
       "      <td>33530892</td>\n",
       "      <td>2019-03-10 23:57:33.000000</td>\n",
       "      <td>ES</td>\n",
       "      <td>19777</td>\n",
       "      <td>CanceledStatus</td>\n",
       "      <td>PAID</td>\n",
       "      <td>1</td>\n",
       "      <td>12.95</td>\n",
       "      <td>0.00</td>\n",
       "      <td>15.540</td>\n",
       "      <td>False</td>\n",
       "      <td>-12.95</td>\n",
       "    </tr>\n",
       "    <tr>\n",
       "      <th>3</th>\n",
       "      <td>33557765</td>\n",
       "      <td>2019-03-10 23:57:21.000000</td>\n",
       "      <td>AR</td>\n",
       "      <td>34565</td>\n",
       "      <td>DeliveredStatus</td>\n",
       "      <td>PAID</td>\n",
       "      <td>2</td>\n",
       "      <td>2.86</td>\n",
       "      <td>6.48</td>\n",
       "      <td>3.432</td>\n",
       "      <td>True</td>\n",
       "      <td>3.62</td>\n",
       "    </tr>\n",
       "    <tr>\n",
       "      <th>4</th>\n",
       "      <td>33512273</td>\n",
       "      <td>2019-03-10 23:57:13.000000</td>\n",
       "      <td>TR</td>\n",
       "      <td>63536</td>\n",
       "      <td>DeliveredStatus</td>\n",
       "      <td>PAID</td>\n",
       "      <td>4</td>\n",
       "      <td>1.88</td>\n",
       "      <td>1.96</td>\n",
       "      <td>2.256</td>\n",
       "      <td>True</td>\n",
       "      <td>0.08</td>\n",
       "    </tr>\n",
       "    <tr>\n",
       "      <th>...</th>\n",
       "      <td>...</td>\n",
       "      <td>...</td>\n",
       "      <td>...</td>\n",
       "      <td>...</td>\n",
       "      <td>...</td>\n",
       "      <td>...</td>\n",
       "      <td>...</td>\n",
       "      <td>...</td>\n",
       "      <td>...</td>\n",
       "      <td>...</td>\n",
       "      <td>...</td>\n",
       "      <td>...</td>\n",
       "    </tr>\n",
       "    <tr>\n",
       "      <th>60394</th>\n",
       "      <td>31960607</td>\n",
       "      <td>2019-03-01 00:04:31.000000</td>\n",
       "      <td>TR</td>\n",
       "      <td>68820</td>\n",
       "      <td>DeliveredStatus</td>\n",
       "      <td>PAID</td>\n",
       "      <td>2</td>\n",
       "      <td>10.17</td>\n",
       "      <td>10.33</td>\n",
       "      <td>12.204</td>\n",
       "      <td>True</td>\n",
       "      <td>0.16</td>\n",
       "    </tr>\n",
       "    <tr>\n",
       "      <th>60395</th>\n",
       "      <td>32002079</td>\n",
       "      <td>2019-03-01 00:03:53.000000</td>\n",
       "      <td>AR</td>\n",
       "      <td>50175</td>\n",
       "      <td>CanceledStatus</td>\n",
       "      <td>PAID</td>\n",
       "      <td>1</td>\n",
       "      <td>3.80</td>\n",
       "      <td>0.00</td>\n",
       "      <td>4.560</td>\n",
       "      <td>False</td>\n",
       "      <td>-3.80</td>\n",
       "    </tr>\n",
       "    <tr>\n",
       "      <th>60396</th>\n",
       "      <td>32002046</td>\n",
       "      <td>2019-03-01 00:03:06.000000</td>\n",
       "      <td>AR</td>\n",
       "      <td>55159</td>\n",
       "      <td>DeliveredStatus</td>\n",
       "      <td>PAID</td>\n",
       "      <td>1</td>\n",
       "      <td>4.24</td>\n",
       "      <td>4.91</td>\n",
       "      <td>5.088</td>\n",
       "      <td>True</td>\n",
       "      <td>0.67</td>\n",
       "    </tr>\n",
       "    <tr>\n",
       "      <th>60397</th>\n",
       "      <td>32001950</td>\n",
       "      <td>2019-03-01 00:01:01.000000</td>\n",
       "      <td>AR</td>\n",
       "      <td>62504</td>\n",
       "      <td>CanceledStatus</td>\n",
       "      <td>PAID</td>\n",
       "      <td>1</td>\n",
       "      <td>4.91</td>\n",
       "      <td>0.00</td>\n",
       "      <td>5.892</td>\n",
       "      <td>False</td>\n",
       "      <td>-4.91</td>\n",
       "    </tr>\n",
       "    <tr>\n",
       "      <th>60398</th>\n",
       "      <td>32001318</td>\n",
       "      <td>2019-03-01 00:01:00.000000</td>\n",
       "      <td>AR</td>\n",
       "      <td>55159</td>\n",
       "      <td>DeliveredStatus</td>\n",
       "      <td>NOT_PAID</td>\n",
       "      <td>2</td>\n",
       "      <td>5.14</td>\n",
       "      <td>5.58</td>\n",
       "      <td>6.168</td>\n",
       "      <td>True</td>\n",
       "      <td>0.44</td>\n",
       "    </tr>\n",
       "  </tbody>\n",
       "</table>\n",
       "<p>60399 rows × 12 columns</p>\n",
       "</div>"
      ],
      "text/plain": [
       "       order_id       activation_time_local country_code  store_address  \\\n",
       "0      33512615  2019-03-10 23:58:32.000000           TR          28725   \n",
       "1      33512451  2019-03-10 23:57:56.000000           TR          28725   \n",
       "2      33530892  2019-03-10 23:57:33.000000           ES          19777   \n",
       "3      33557765  2019-03-10 23:57:21.000000           AR          34565   \n",
       "4      33512273  2019-03-10 23:57:13.000000           TR          63536   \n",
       "...         ...                         ...          ...            ...   \n",
       "60394  31960607  2019-03-01 00:04:31.000000           TR          68820   \n",
       "60395  32002079  2019-03-01 00:03:53.000000           AR          50175   \n",
       "60396  32002046  2019-03-01 00:03:06.000000           AR          55159   \n",
       "60397  32001950  2019-03-01 00:01:01.000000           AR          62504   \n",
       "60398  32001318  2019-03-01 00:01:00.000000           AR          55159   \n",
       "\n",
       "          final_status payment_status  products  products_total  \\\n",
       "0      DeliveredStatus           PAID         1            3.76   \n",
       "1      DeliveredStatus           PAID         1            2.86   \n",
       "2       CanceledStatus           PAID         1           12.95   \n",
       "3      DeliveredStatus           PAID         2            2.86   \n",
       "4      DeliveredStatus           PAID         4            1.88   \n",
       "...                ...            ...       ...             ...   \n",
       "60394  DeliveredStatus           PAID         2           10.17   \n",
       "60395   CanceledStatus           PAID         1            3.80   \n",
       "60396  DeliveredStatus           PAID         1            4.24   \n",
       "60397   CanceledStatus           PAID         1            4.91   \n",
       "60398  DeliveredStatus       NOT_PAID         2            5.14   \n",
       "\n",
       "       purchase_total_price  products_total_checkout  under_authorized  \\\n",
       "0                      3.76                    4.512             False   \n",
       "1                      2.86                    3.432             False   \n",
       "2                      0.00                   15.540             False   \n",
       "3                      6.48                    3.432              True   \n",
       "4                      1.96                    2.256              True   \n",
       "...                     ...                      ...               ...   \n",
       "60394                 10.33                   12.204              True   \n",
       "60395                  0.00                    4.560             False   \n",
       "60396                  4.91                    5.088              True   \n",
       "60397                  0.00                    5.892             False   \n",
       "60398                  5.58                    6.168              True   \n",
       "\n",
       "       remaining_amount  \n",
       "0                  0.00  \n",
       "1                  0.00  \n",
       "2                -12.95  \n",
       "3                  3.62  \n",
       "4                  0.08  \n",
       "...                 ...  \n",
       "60394              0.16  \n",
       "60395             -3.80  \n",
       "60396              0.67  \n",
       "60397             -4.91  \n",
       "60398              0.44  \n",
       "\n",
       "[60399 rows x 12 columns]"
      ]
     },
     "execution_count": 117,
     "metadata": {},
     "output_type": "execute_result"
    }
   ],
   "source": [
    "df[\"remaining_amount\"] = df[\"purchase_total_price\"] - df[\"products_total\"]\n",
    "df"
   ]
  },
  {
   "cell_type": "markdown",
   "id": "35aeade7",
   "metadata": {},
   "source": [
    "#### Scatter plot"
   ]
  },
  {
   "cell_type": "code",
   "execution_count": 118,
   "id": "13025c99",
   "metadata": {
    "scrolled": false
   },
   "outputs": [
    {
     "data": {
      "image/png": "[encoded data removed]",
      "text/plain": [
       "<Figure size 640x480 with 1 Axes>"
      ]
     },
     "metadata": {},
     "output_type": "display_data"
    }
   ],
   "source": [
    "df_delivered = df[df['final_status'] == 'DeliveredStatus']\n",
    "df_canceled = df[df['final_status'] == 'CanceledStatus']\n",
    "plt.scatter(df_delivered['final_status'], df_delivered['remaining_amount'], color='blue', label='delivered')\n",
    "plt.scatter(df_canceled['final_status'], df_canceled['remaining_amount'], color='red', label='canceled')\n",
    "plt.title('Correlation between Final Status and Remaining Amount')\n",
    "plt.xlabel('Final Status')\n",
    "plt.ylabel('Remaining Amount')\n",
    "plt.legend()  \n",
    "plt.grid(True)  \n",
    "plt.show()"
   ]
  },
  {
   "cell_type": "markdown",
   "id": "f0bd6a72",
   "metadata": {},
   "source": [
    "The plot does not show a clear pattern or trend between the price paid by the courier and the total product price.\n",
    "\n",
    "There are both delivered and canceled orders spread across various price ranges, suggesting that the price difference alone may not be a strong predictor of the order's final status."
   ]
  },
  {
   "cell_type": "code",
   "execution_count": 119,
   "id": "5958212a",
   "metadata": {},
   "outputs": [
    {
     "data": {
      "image/png": "[encoded data removed]",
      "text/plain": [
       "<Figure size 640x480 with 1 Axes>"
      ]
     },
     "metadata": {},
     "output_type": "display_data"
    }
   ],
   "source": [
    "under_auth_orders = df[df['products_total'] < df['purchase_total_price']]\n",
    "sns.scatterplot(x='purchase_total_price', y='products_total', hue='final_status', data=under_auth_orders, alpha=1, palette='bright')\n",
    "plt.xlabel('Precio pagado por el mensajero')\n",
    "plt.ylabel('Precio total de los productos')\n",
    "plt.title('Relación entre Precio Pagado por el Mensajero y Precio Total de los Productos')\n",
    "plt.legend(title='Estado Final')\n",
    "plt.show()"
   ]
  },
  {
   "cell_type": "markdown",
   "id": "de1f7607",
   "metadata": {},
   "source": [
    "Delivered orders (blue points) tend to have lower remaining amounts compared to canceled orders (red points).\n",
    "\n",
    "There is a visible pattern where higher remaining amounts are associated with canceled orders, while lower remaining amounts are associated with delivered orders.\n",
    "\n",
    "This suggests a potential correlation between the final status and the remaining amount, with higher remaining amounts being more likely for canceled orders."
   ]
  },
  {
   "cell_type": "markdown",
   "id": "9ba28884",
   "metadata": {},
   "source": [
    "### Conclusions"
   ]
  },
  {
   "cell_type": "markdown",
   "id": "c4073113",
   "metadata": {},
   "source": [
    "The first scatter plot does not reveal a strong correlation between the price paid by the courier and the total product price for under-authorized orders.\n",
    "The second plot suggests a correlation between the final status and the remaining amount, indicating that higher remaining amounts are associated with a higher likelihood of order cancellation."
   ]
  }
 ],
 "metadata": {
  "kernelspec": {
   "display_name": "Python 3 (ipykernel)",
   "language": "python",
   "name": "python3"
  },
  "language_info": {
   "codemirror_mode": {
    "name": "ipython",
    "version": 3
   },
   "file_extension": ".py",
   "mimetype": "text/x-python",
   "name": "python",
   "nbconvert_exporter": "python",
   "pygments_lexer": "ipython3",
   "version": "3.11.5"
  }
 },
 "nbformat": 4,
 "nbformat_minor": 5
}
